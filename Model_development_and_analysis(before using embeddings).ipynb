{
  "nbformat": 4,
  "nbformat_minor": 0,
  "metadata": {
    "colab": {
      "provenance": [],
      "gpuType": "V28"
    },
    "kernelspec": {
      "name": "python3",
      "display_name": "Python 3"
    },
    "language_info": {
      "name": "python"
    },
    "accelerator": "TPU"
  },
  "cells": [
    {
      "cell_type": "code",
      "source": [
        "import pandas as pd\n",
        "import json"
      ],
      "metadata": {
        "id": "xEit4kO06Eam"
      },
      "execution_count": 3,
      "outputs": []
    },
    {
      "cell_type": "code",
      "source": [
        "# File paths (Update if in subfolders)\n",
        "tfidf_file = \"/content/drive/MyDrive/sem 6/DS lab/Data/output_tf-idf.json\"\n",
        "linguistic_file = \"/content/drive/MyDrive/sem 6/DS lab/Data/VADER/VADER_df_norm.json\"\n",
        "\n",
        "# Load TF-IDF features\n",
        "with open(tfidf_file, \"r\") as f:\n",
        "    tfidf_data = json.load(f)\n",
        "df_tfidf = pd.DataFrame(tfidf_data)\n",
        "\n",
        "# Load Linguistic & Sentiment features\n",
        "with open(linguistic_file, \"r\") as f:\n",
        "    linguistic_data = json.load(f)\n",
        "df_linguistic = pd.DataFrame(linguistic_data)\n",
        "\n",
        "# Ensure both datasets have 'Label' (not 'label')\n",
        "if 'Label' not in df_tfidf.columns or 'Label' not in df_linguistic.columns:\n",
        "    raise ValueError(\"Ensure both datasets contain a 'Label' column.\")\n",
        "\n",
        "# Convert to NumPy arrays for model training\n",
        "X_tfidf, y_tfidf = df_tfidf.drop(columns=[\"Label\"]).values, df_tfidf[\"Label\"].values\n",
        "X_linguistic, y_linguistic = df_linguistic.drop(columns=[\"Label\"]).values, df_linguistic[\"Label\"].values\n",
        "\n"
      ],
      "metadata": {
        "id": "ED1wyb7J6KDN"
      },
      "execution_count": 6,
      "outputs": []
    },
    {
      "cell_type": "markdown",
      "source": [
        "## Data splitting"
      ],
      "metadata": {
        "id": "B3jqVQs95Gf1"
      }
    },
    {
      "cell_type": "code",
      "source": [
        "from sklearn.model_selection import train_test_split\n",
        "\n",
        "# Split TF-IDF dataset\n",
        "X_tfidf_train, X_tfidf_test, y_tfidf_train, y_tfidf_test = train_test_split(\n",
        "    X_tfidf, y_tfidf, test_size=0.2, random_state=42, stratify=y_tfidf\n",
        ")\n",
        "\n",
        "# Split Linguistic dataset\n",
        "X_linguistic_train, X_linguistic_test, y_linguistic_train, y_linguistic_test = train_test_split(\n",
        "    X_linguistic, y_linguistic, test_size=0.2, random_state=42, stratify=y_linguistic\n",
        ")\n"
      ],
      "metadata": {
        "id": "LhLXTfpw8ZBC"
      },
      "execution_count": 7,
      "outputs": []
    },
    {
      "cell_type": "markdown",
      "source": [
        "## Train and evaluate models"
      ],
      "metadata": {
        "id": "q-x8c9aj8db3"
      }
    },
    {
      "cell_type": "code",
      "source": [
        "!pip install xgboost\n",
        "\n",
        "from sklearn.linear_model import LogisticRegression\n",
        "from sklearn.ensemble import RandomForestClassifier\n",
        "from xgboost import XGBClassifier\n",
        "from sklearn.metrics import accuracy_score, classification_report\n",
        "\n",
        "# Define models\n",
        "models = {\n",
        "    \"Logistic Regression\": LogisticRegression(),\n",
        "    \"Random Forest\": RandomForestClassifier(n_estimators=100, max_depth=10, random_state=42),\n",
        "    \"XGBoost\": XGBClassifier(n_estimators=100, learning_rate=0.1, max_depth=5, random_state=42)\n",
        "}\n",
        "\n",
        "# Store results\n",
        "results = {}\n",
        "\n",
        "for dataset_name, (X_train, X_test, y_train, y_test) in {\n",
        "    \"TF-IDF\": (X_tfidf_train, X_tfidf_test, y_tfidf_train, y_tfidf_test),\n",
        "    \"Linguistic & Sentiment\": (X_linguistic_train, X_linguistic_test, y_linguistic_train, y_linguistic_test)\n",
        "}.items():\n",
        "\n",
        "    print(f\"\\n--- Training on {dataset_name} Dataset ---\")\n",
        "    results[dataset_name] = {}\n",
        "\n",
        "    for model_name, model in models.items():\n",
        "        print(f\"\\nTraining {model_name} on {dataset_name} dataset...\")\n",
        "\n",
        "        # Train model\n",
        "        model.fit(X_train, y_train)\n",
        "        y_pred = model.predict(X_test)\n",
        "\n",
        "        # Evaluate\n",
        "        acc = accuracy_score(y_test, y_pred)\n",
        "        report = classification_report(y_test, y_pred)\n",
        "\n",
        "        print(f\"\\n{model_name} Performance on {dataset_name} dataset:\")\n",
        "        print(\"Accuracy:\", acc)\n",
        "        print(\"Classification Report:\\n\", report)\n",
        "        print(\"-\" * 50)\n",
        "\n",
        "        # Store results\n",
        "        results[dataset_name][model_name] = acc\n"
      ],
      "metadata": {
        "colab": {
          "base_uri": "https://localhost:8080/"
        },
        "id": "mtHcGvvW8fkq",
        "outputId": "6abbee30-954d-460e-ab62-f4f413c51066"
      },
      "execution_count": 8,
      "outputs": [
        {
          "output_type": "stream",
          "name": "stdout",
          "text": [
            "Collecting xgboost\n",
            "  Downloading xgboost-3.0.0-py3-none-manylinux_2_28_x86_64.whl.metadata (2.1 kB)\n",
            "Requirement already satisfied: numpy in /usr/local/lib/python3.11/dist-packages (from xgboost) (2.0.2)\n",
            "Collecting nvidia-nccl-cu12 (from xgboost)\n",
            "  Downloading nvidia_nccl_cu12-2.26.2-py3-none-manylinux2014_x86_64.manylinux_2_17_x86_64.whl.metadata (2.0 kB)\n",
            "Requirement already satisfied: scipy in /usr/local/lib/python3.11/dist-packages (from xgboost) (1.14.1)\n",
            "Downloading xgboost-3.0.0-py3-none-manylinux_2_28_x86_64.whl (253.9 MB)\n",
            "\u001b[2K   \u001b[90m━━━━━━━━━━━━━━━━━━━━━━━━━━━━━━━━━━━━━━━━\u001b[0m \u001b[32m253.9/253.9 MB\u001b[0m \u001b[31m4.1 MB/s\u001b[0m eta \u001b[36m0:00:00\u001b[0m\n",
            "\u001b[?25hDownloading nvidia_nccl_cu12-2.26.2-py3-none-manylinux2014_x86_64.manylinux_2_17_x86_64.whl (201.3 MB)\n",
            "\u001b[2K   \u001b[90m━━━━━━━━━━━━━━━━━━━━━━━━━━━━━━━━━━━━━━━━\u001b[0m \u001b[32m201.3/201.3 MB\u001b[0m \u001b[31m5.3 MB/s\u001b[0m eta \u001b[36m0:00:00\u001b[0m\n",
            "\u001b[?25hInstalling collected packages: nvidia-nccl-cu12, xgboost\n",
            "Successfully installed nvidia-nccl-cu12-2.26.2 xgboost-3.0.0\n",
            "\n",
            "--- Training on TF-IDF Dataset ---\n",
            "\n",
            "Training Logistic Regression on TF-IDF dataset...\n",
            "\n",
            "Logistic Regression Performance on TF-IDF dataset:\n",
            "Accuracy: 0.5345238095238095\n",
            "Classification Report:\n",
            "               precision    recall  f1-score   support\n",
            "\n",
            "           0       0.57      0.29      0.39      2100\n",
            "           1       0.52      0.78      0.63      2100\n",
            "\n",
            "    accuracy                           0.53      4200\n",
            "   macro avg       0.55      0.53      0.51      4200\n",
            "weighted avg       0.55      0.53      0.51      4200\n",
            "\n",
            "--------------------------------------------------\n",
            "\n",
            "Training Random Forest on TF-IDF dataset...\n",
            "\n",
            "Random Forest Performance on TF-IDF dataset:\n",
            "Accuracy: 0.518095238095238\n",
            "Classification Report:\n",
            "               precision    recall  f1-score   support\n",
            "\n",
            "           0       0.62      0.09      0.16      2100\n",
            "           1       0.51      0.94      0.66      2100\n",
            "\n",
            "    accuracy                           0.52      4200\n",
            "   macro avg       0.57      0.52      0.41      4200\n",
            "weighted avg       0.57      0.52      0.41      4200\n",
            "\n",
            "--------------------------------------------------\n",
            "\n",
            "Training XGBoost on TF-IDF dataset...\n",
            "\n",
            "XGBoost Performance on TF-IDF dataset:\n",
            "Accuracy: 0.5114285714285715\n",
            "Classification Report:\n",
            "               precision    recall  f1-score   support\n",
            "\n",
            "           0       0.63      0.06      0.10      2100\n",
            "           1       0.51      0.97      0.66      2100\n",
            "\n",
            "    accuracy                           0.51      4200\n",
            "   macro avg       0.57      0.51      0.38      4200\n",
            "weighted avg       0.57      0.51      0.38      4200\n",
            "\n",
            "--------------------------------------------------\n",
            "\n",
            "--- Training on Linguistic & Sentiment Dataset ---\n",
            "\n",
            "Training Logistic Regression on Linguistic & Sentiment dataset...\n",
            "\n",
            "Logistic Regression Performance on Linguistic & Sentiment dataset:\n",
            "Accuracy: 0.5804761904761905\n",
            "Classification Report:\n",
            "               precision    recall  f1-score   support\n",
            "\n",
            "           0       0.57      0.62      0.60      2100\n",
            "           1       0.59      0.54      0.56      2100\n",
            "\n",
            "    accuracy                           0.58      4200\n",
            "   macro avg       0.58      0.58      0.58      4200\n",
            "weighted avg       0.58      0.58      0.58      4200\n",
            "\n",
            "--------------------------------------------------\n",
            "\n",
            "Training Random Forest on Linguistic & Sentiment dataset...\n"
          ]
        },
        {
          "output_type": "stream",
          "name": "stderr",
          "text": [
            "/usr/local/lib/python3.11/dist-packages/sklearn/linear_model/_logistic.py:465: ConvergenceWarning: lbfgs failed to converge (status=1):\n",
            "STOP: TOTAL NO. of ITERATIONS REACHED LIMIT.\n",
            "\n",
            "Increase the number of iterations (max_iter) or scale the data as shown in:\n",
            "    https://scikit-learn.org/stable/modules/preprocessing.html\n",
            "Please also refer to the documentation for alternative solver options:\n",
            "    https://scikit-learn.org/stable/modules/linear_model.html#logistic-regression\n",
            "  n_iter_i = _check_optimize_result(\n"
          ]
        },
        {
          "output_type": "stream",
          "name": "stdout",
          "text": [
            "\n",
            "Random Forest Performance on Linguistic & Sentiment dataset:\n",
            "Accuracy: 0.6309523809523809\n",
            "Classification Report:\n",
            "               precision    recall  f1-score   support\n",
            "\n",
            "           0       0.62      0.68      0.65      2100\n",
            "           1       0.65      0.58      0.61      2100\n",
            "\n",
            "    accuracy                           0.63      4200\n",
            "   macro avg       0.63      0.63      0.63      4200\n",
            "weighted avg       0.63      0.63      0.63      4200\n",
            "\n",
            "--------------------------------------------------\n",
            "\n",
            "Training XGBoost on Linguistic & Sentiment dataset...\n",
            "\n",
            "XGBoost Performance on Linguistic & Sentiment dataset:\n",
            "Accuracy: 0.6307142857142857\n",
            "Classification Report:\n",
            "               precision    recall  f1-score   support\n",
            "\n",
            "           0       0.62      0.66      0.64      2100\n",
            "           1       0.64      0.60      0.62      2100\n",
            "\n",
            "    accuracy                           0.63      4200\n",
            "   macro avg       0.63      0.63      0.63      4200\n",
            "weighted avg       0.63      0.63      0.63      4200\n",
            "\n",
            "--------------------------------------------------\n"
          ]
        }
      ]
    },
    {
      "cell_type": "markdown",
      "source": [
        "## Compare model performance"
      ],
      "metadata": {
        "id": "7Q7haR4a82bZ"
      }
    },
    {
      "cell_type": "code",
      "source": [
        "import matplotlib.pyplot as plt\n",
        "import numpy as np\n",
        "\n",
        "# Convert results to a structured format\n",
        "datasets = list(results.keys())\n",
        "model_names = list(models.keys())\n",
        "\n",
        "# Prepare accuracy matrix\n",
        "accuracy_matrix = np.array([[results[dataset][model] for model in model_names] for dataset in datasets])\n",
        "\n",
        "# Plot results\n",
        "fig, ax = plt.subplots(figsize=(8, 5))\n",
        "bar_width = 0.3\n",
        "index = np.arange(len(model_names))\n",
        "\n",
        "for i, dataset in enumerate(datasets):\n",
        "    plt.bar(index + i * bar_width, accuracy_matrix[i], width=bar_width, label=dataset)\n",
        "\n",
        "ax.set_xlabel(\"Model\")\n",
        "ax.set_ylabel(\"Accuracy\")\n",
        "ax.set_title(\"Model Performance Comparison Across Datasets\")\n",
        "ax.set_xticks(index + bar_width / 2)\n",
        "ax.set_xticklabels(model_names)\n",
        "ax.legend()\n",
        "\n",
        "plt.show()\n"
      ],
      "metadata": {
        "colab": {
          "base_uri": "https://localhost:8080/",
          "height": 487
        },
        "id": "-tai1idM850i",
        "outputId": "a738b97d-3fc0-4bd1-f4c1-14a651a83e43"
      },
      "execution_count": 9,
      "outputs": [
        {
          "output_type": "display_data",
          "data": {
            "text/plain": [
              "<Figure size 800x500 with 1 Axes>"
            ],
            "image/png": "[encoded data removed]"
          },
          "metadata": {}
        }
      ]
    }
  ]
}